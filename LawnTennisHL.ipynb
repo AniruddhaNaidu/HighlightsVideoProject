{
 "cells": [
  {
   "cell_type": "code",
   "execution_count": 1,
   "metadata": {},
   "outputs": [],
   "source": [
    "from moviepy.editor import *\n",
    "from multiprocessing import Process, Semaphore\n",
    "import sys\n",
    "import pandas as pd\n",
    "import xlrd\n",
    "import soundfile as sf\n",
    "import pyloudnorm as pyln\n",
    "#C:\\Users\\samee\\Documents\\Courses\\Projects\\Lawn Tennis Highlights with Python\\LTmatch.mp4\n",
    "#C:\\Users\\samee\\Documents\\Courses\\Projects\\Lawn Tennis Highlights with Python\\LTHL.xlsx\n",
    "#C:\\Users\\samee\\Documents\\Courses\\Projects\\Lawn Tennis Highlights with Python\\Output"
   ]
  },
  {
   "cell_type": "code",
   "execution_count": 2,
   "metadata": {},
   "outputs": [],
   "source": [
    "#function to read Video File\n",
    "\n",
    "def VideoDescription(loc):\n",
    "        try:\n",
    "            clip= VideoFileClip(r'%s'%loc)\n",
    "            w,h=clip.size\n",
    "            print(\"Width: \",w,\" Height: \",h)\n",
    "            print(\"Duration(mins): \",clip.duration/60)\n",
    "            print(\"FPS: \", clip.fps)\n",
    "        except:\n",
    "            print(\"Video not found\")\n",
    "        else:\n",
    "            return loc\n",
    "\n",
    "        \n",
    "#function to read csv\n",
    "\n",
    "def ReadCSV(file):\n",
    "        try:\n",
    "            pd.read_excel(r'%s'%file)\n",
    "            print(\"File Found\")\n",
    "            if not file.endswith(\".xlsx\"):\n",
    "                raise FileNotFoundError\n",
    "\n",
    "        except(FileNotFoundError):\n",
    "            print(\"Error: File not found, Please Enter the correct path\")\n",
    "            \n",
    "        else:\n",
    "            return file\n",
    "\n",
    "#function take output path\n",
    "def VideoOutput(oloc):\n",
    "        try:\n",
    "            if not (os.path.exists(oloc)):\n",
    "                raise FileNotFoundError\n",
    "\n",
    "        except (FileNotFoundError, OSError, IOError):\n",
    "            print(\"Not Valid ! Please check that you entered the correct path\")\n",
    "        else:\n",
    "            return oloc"
   ]
  },
  {
   "cell_type": "code",
   "execution_count": 3,
   "metadata": {},
   "outputs": [],
   "source": [
    "#function to split video\n",
    "\n",
    "def write_videofile():\n",
    "    try:\n",
    "        for row in df.iterrows():\n",
    "            clip_start = row[\"clip_start\"]\n",
    "            clip_end = row[\"clip_end\"]\n",
    "            \n",
    "            hlclip = clip.subclip(clip_start, clip_end)\n",
    "            print(clip_start, clip_end)\n",
    "            hlclip.write_videofile(\"output_%s.mp4\" % num)\n",
    "            hlclip.audio.write_audio(\"output_%s.mp4\"% num)\n",
    "    except:\n",
    "        print(\"error\", clip_start, clip_end)\n",
    "        \n",
    "\n",
    "#function to split video files\n",
    "def break_video_files(loc,file,oloc):\n",
    "    global path\n",
    "    num = 0\n",
    "    loudness_dict = {}\n",
    "    df = pd.read_excel(file)\n",
    "\n",
    "    for ind in df.index:\n",
    "        with VideoFileClip(loc) as clips:\n",
    "           \n",
    "            clip = clips.subclip(df['clip_start'][ind], df['clip_end'][ind])\n",
    "            clip.write_videofile(os.path.join(oloc,\"output_%s.mp4\" % str(num).zfill(3)))\n",
    "            clip.audio.write_audiofile(os.path.join(oloc,\"output_%s.wav\" % str(num).zfill(3)))\n",
    "            num += 1\n",
    "\n",
    "        for file_name in os.listdir(oloc):\n",
    "            if file_name.endswith(\".wav\"):\n",
    "                path = os.path.join(oloc, file_name)\n",
    "                data, rate = sf.read(path)  \n",
    "                meter = pyln.Meter(rate)  \n",
    "                loudness = meter.integrated_loudness(data)\n",
    "                file_name=file_name.split(\".\")[0] + \".mp4\"\n",
    "                loudness_dict[file_name] = loudness\n",
    "    return loudness_dict,path"
   ]
  },
  {
   "cell_type": "code",
   "execution_count": 4,
   "metadata": {},
   "outputs": [],
   "source": [
    "#function to merge clips\n",
    "def merge_files(loudness_dict):\n",
    "    sorted_wav_list = sorted(loudness_dict.items(),key=lambda kv: (kv[1], kv[0]))\n",
    "    \n",
    "    sorted_wav_list= sorted_wav_list[:15]\n",
    "    print(sorted_wav_list)\n",
    "\n",
    "    new_wav_list = []\n",
    "    \n",
    "    for loud_file in sorted_wav_list:\n",
    "        new_wav_list.append(loud_file[0])\n",
    "    new_wav_list = sorted(new_wav_list)\n",
    "    print(new_wav_list)\n",
    "\n",
    "    new_video_list = []\n",
    "    for i in new_wav_list:\n",
    "        new_video_list.append(VideoFileClip(os.path.join(oloc, i)))\n",
    "    \n",
    "    final_clip = concatenate_videoclips(new_video_list)\n",
    "    \n",
    "    final_clip.write_videofile(os.path.join(oloc, \"final_highlights.mp4\"))\n",
    "    floc = os.path.abspath(oloc)\n",
    "    clip_path = os.path.dirname(floc)\n",
    "    \n",
    "    if os.path.isdir(clip_path):\n",
    "        print(\"Your highlights video is located in {0} with name {1} \".format(clip_path, os.path.basename(floc)))\n",
    "        \n",
    "    return final_clip\n",
    "\n",
    "#function to remove the generated output.mp4 and output.wav files from our directory\n",
    "def clean_files(oloc):\n",
    "    \n",
    "    dir_files = os.listdir(oloc)\n",
    "    for dir_file in dir_files:\n",
    "    \n",
    "        if dir_file.startswith(\"output\"):\n",
    "            os.remove(os.path.join(oloc, dir_file))"
   ]
  },
  {
   "cell_type": "code",
   "execution_count": 5,
   "metadata": {},
   "outputs": [
    {
     "name": "stdout",
     "output_type": "stream",
     "text": [
      "Enter your Video File Location: C:\\Users\\samee\\Documents\\Courses\\Projects\\Lawn Tennis Highlights with Python\\LTmatch.mp4\n",
      "Width:  1280  Height:  720\n",
      "Duration(mins):  94.21683333333334\n",
      "FPS:  30.0\n",
      "Enter CLIP TIME csv location: C:\\Users\\samee\\Documents\\Courses\\Projects\\Lawn Tennis Highlights with Python\\LTHL.xlsx\n",
      "File Found\n",
      "Enter output Folder path?C:\\Users\\samee\\Documents\\Courses\\Projects\\Lawn Tennis Highlights with Python\\Output\n"
     ]
    },
    {
     "name": "stderr",
     "output_type": "stream",
     "text": [
      "chunk:   1%|▌                                                                | 2/221 [00:00<00:14, 15.15it/s, now=None]"
     ]
    },
    {
     "name": "stdout",
     "output_type": "stream",
     "text": [
      "Moviepy - Building video C:\\Users\\samee\\Documents\\Courses\\Projects\\Lawn Tennis Highlights with Python\\Output\\output_000.mp4.\n",
      "MoviePy - Writing audio in %s\n"
     ]
    },
    {
     "name": "stderr",
     "output_type": "stream",
     "text": [
      "t:   3%|██                                                                   | 9/300 [00:00<00:03, 85.70it/s, now=None]"
     ]
    },
    {
     "name": "stdout",
     "output_type": "stream",
     "text": [
      "MoviePy - Done.\n",
      "Moviepy - Writing video C:\\Users\\samee\\Documents\\Courses\\Projects\\Lawn Tennis Highlights with Python\\Output\\output_000.mp4\n",
      "\n"
     ]
    },
    {
     "name": "stderr",
     "output_type": "stream",
     "text": [
      "chunk:   1%|▌                                                                | 2/221 [00:00<00:14, 15.27it/s, now=None]"
     ]
    },
    {
     "name": "stdout",
     "output_type": "stream",
     "text": [
      "Moviepy - Done !\n",
      "Moviepy - video ready C:\\Users\\samee\\Documents\\Courses\\Projects\\Lawn Tennis Highlights with Python\\Output\\output_000.mp4\n",
      "MoviePy - Writing audio in %s\n"
     ]
    },
    {
     "name": "stderr",
     "output_type": "stream",
     "text": [
      "                                                                                                                       \r"
     ]
    },
    {
     "name": "stdout",
     "output_type": "stream",
     "text": [
      "MoviePy - Done.\n"
     ]
    },
    {
     "name": "stderr",
     "output_type": "stream",
     "text": [
      "chunk:   2%|█▏                                                               | 2/111 [00:00<00:07, 14.92it/s, now=None]"
     ]
    },
    {
     "name": "stdout",
     "output_type": "stream",
     "text": [
      "Moviepy - Building video C:\\Users\\samee\\Documents\\Courses\\Projects\\Lawn Tennis Highlights with Python\\Output\\output_001.mp4.\n",
      "MoviePy - Writing audio in %s\n"
     ]
    },
    {
     "name": "stderr",
     "output_type": "stream",
     "text": [
      "t:   5%|███▋                                                                 | 8/150 [00:00<00:01, 78.43it/s, now=None]"
     ]
    },
    {
     "name": "stdout",
     "output_type": "stream",
     "text": [
      "MoviePy - Done.\n",
      "Moviepy - Writing video C:\\Users\\samee\\Documents\\Courses\\Projects\\Lawn Tennis Highlights with Python\\Output\\output_001.mp4\n",
      "\n"
     ]
    },
    {
     "name": "stderr",
     "output_type": "stream",
     "text": [
      "chunk:   2%|█▏                                                               | 2/111 [00:00<00:07, 14.49it/s, now=None]"
     ]
    },
    {
     "name": "stdout",
     "output_type": "stream",
     "text": [
      "Moviepy - Done !\n",
      "Moviepy - video ready C:\\Users\\samee\\Documents\\Courses\\Projects\\Lawn Tennis Highlights with Python\\Output\\output_001.mp4\n",
      "MoviePy - Writing audio in %s\n"
     ]
    },
    {
     "name": "stderr",
     "output_type": "stream",
     "text": [
      "                                                                                                                       \r"
     ]
    },
    {
     "name": "stdout",
     "output_type": "stream",
     "text": [
      "MoviePy - Done.\n"
     ]
    },
    {
     "name": "stderr",
     "output_type": "stream",
     "text": [
      "chunk:   1%|▌                                                                | 2/221 [00:00<00:14, 15.27it/s, now=None]"
     ]
    },
    {
     "name": "stdout",
     "output_type": "stream",
     "text": [
      "Moviepy - Building video C:\\Users\\samee\\Documents\\Courses\\Projects\\Lawn Tennis Highlights with Python\\Output\\output_002.mp4.\n",
      "MoviePy - Writing audio in %s\n"
     ]
    },
    {
     "name": "stderr",
     "output_type": "stream",
     "text": [
      "t:   2%|█▌                                                                   | 7/300 [00:00<00:04, 69.30it/s, now=None]"
     ]
    },
    {
     "name": "stdout",
     "output_type": "stream",
     "text": [
      "MoviePy - Done.\n",
      "Moviepy - Writing video C:\\Users\\samee\\Documents\\Courses\\Projects\\Lawn Tennis Highlights with Python\\Output\\output_002.mp4\n",
      "\n"
     ]
    },
    {
     "name": "stderr",
     "output_type": "stream",
     "text": [
      "chunk:   1%|▌                                                                | 2/221 [00:00<00:14, 14.92it/s, now=None]"
     ]
    },
    {
     "name": "stdout",
     "output_type": "stream",
     "text": [
      "Moviepy - Done !\n",
      "Moviepy - video ready C:\\Users\\samee\\Documents\\Courses\\Projects\\Lawn Tennis Highlights with Python\\Output\\output_002.mp4\n",
      "MoviePy - Writing audio in %s\n"
     ]
    },
    {
     "name": "stderr",
     "output_type": "stream",
     "text": [
      "                                                                                                                       \r"
     ]
    },
    {
     "name": "stdout",
     "output_type": "stream",
     "text": [
      "MoviePy - Done.\n"
     ]
    },
    {
     "name": "stderr",
     "output_type": "stream",
     "text": [
      "chunk:   1%|▋                                                                | 2/199 [00:00<00:12, 15.27it/s, now=None]"
     ]
    },
    {
     "name": "stdout",
     "output_type": "stream",
     "text": [
      "Moviepy - Building video C:\\Users\\samee\\Documents\\Courses\\Projects\\Lawn Tennis Highlights with Python\\Output\\output_003.mp4.\n",
      "MoviePy - Writing audio in %s\n"
     ]
    },
    {
     "name": "stderr",
     "output_type": "stream",
     "text": [
      "t:   3%|█▊                                                                   | 7/270 [00:00<00:03, 69.99it/s, now=None]"
     ]
    },
    {
     "name": "stdout",
     "output_type": "stream",
     "text": [
      "MoviePy - Done.\n",
      "Moviepy - Writing video C:\\Users\\samee\\Documents\\Courses\\Projects\\Lawn Tennis Highlights with Python\\Output\\output_003.mp4\n",
      "\n"
     ]
    },
    {
     "name": "stderr",
     "output_type": "stream",
     "text": [
      "chunk:   0%|                                                                         | 0/199 [00:00<?, ?it/s, now=None]"
     ]
    },
    {
     "name": "stdout",
     "output_type": "stream",
     "text": [
      "Moviepy - Done !\n",
      "Moviepy - video ready C:\\Users\\samee\\Documents\\Courses\\Projects\\Lawn Tennis Highlights with Python\\Output\\output_003.mp4\n",
      "MoviePy - Writing audio in %s\n"
     ]
    },
    {
     "name": "stderr",
     "output_type": "stream",
     "text": [
      "                                                                                                                       \r"
     ]
    },
    {
     "name": "stdout",
     "output_type": "stream",
     "text": [
      "MoviePy - Done.\n"
     ]
    },
    {
     "name": "stderr",
     "output_type": "stream",
     "text": [
      "chunk:   2%|▉                                                                | 2/133 [00:00<00:08, 15.27it/s, now=None]"
     ]
    },
    {
     "name": "stdout",
     "output_type": "stream",
     "text": [
      "Moviepy - Building video C:\\Users\\samee\\Documents\\Courses\\Projects\\Lawn Tennis Highlights with Python\\Output\\output_004.mp4.\n",
      "MoviePy - Writing audio in %s\n"
     ]
    },
    {
     "name": "stderr",
     "output_type": "stream",
     "text": [
      "t:   5%|███▍                                                                 | 9/180 [00:00<00:01, 87.37it/s, now=None]"
     ]
    },
    {
     "name": "stdout",
     "output_type": "stream",
     "text": [
      "MoviePy - Done.\n",
      "Moviepy - Writing video C:\\Users\\samee\\Documents\\Courses\\Projects\\Lawn Tennis Highlights with Python\\Output\\output_004.mp4\n",
      "\n"
     ]
    },
    {
     "name": "stderr",
     "output_type": "stream",
     "text": [
      "chunk:   2%|▉                                                                | 2/133 [00:00<00:08, 15.27it/s, now=None]"
     ]
    },
    {
     "name": "stdout",
     "output_type": "stream",
     "text": [
      "Moviepy - Done !\n",
      "Moviepy - video ready C:\\Users\\samee\\Documents\\Courses\\Projects\\Lawn Tennis Highlights with Python\\Output\\output_004.mp4\n",
      "MoviePy - Writing audio in %s\n"
     ]
    },
    {
     "name": "stderr",
     "output_type": "stream",
     "text": [
      "                                                                                                                       \r"
     ]
    },
    {
     "name": "stdout",
     "output_type": "stream",
     "text": [
      "MoviePy - Done.\n"
     ]
    },
    {
     "name": "stderr",
     "output_type": "stream",
     "text": [
      "chunk:   1%|▋                                                                | 2/177 [00:00<00:11, 14.60it/s, now=None]"
     ]
    },
    {
     "name": "stdout",
     "output_type": "stream",
     "text": [
      "Moviepy - Building video C:\\Users\\samee\\Documents\\Courses\\Projects\\Lawn Tennis Highlights with Python\\Output\\output_005.mp4.\n",
      "MoviePy - Writing audio in %s\n"
     ]
    },
    {
     "name": "stderr",
     "output_type": "stream",
     "text": [
      "t:   3%|██▎                                                                  | 8/240 [00:00<00:03, 76.18it/s, now=None]"
     ]
    },
    {
     "name": "stdout",
     "output_type": "stream",
     "text": [
      "MoviePy - Done.\n",
      "Moviepy - Writing video C:\\Users\\samee\\Documents\\Courses\\Projects\\Lawn Tennis Highlights with Python\\Output\\output_005.mp4\n",
      "\n"
     ]
    },
    {
     "name": "stderr",
     "output_type": "stream",
     "text": [
      "chunk:   1%|▋                                                                | 2/177 [00:00<00:11, 14.92it/s, now=None]"
     ]
    },
    {
     "name": "stdout",
     "output_type": "stream",
     "text": [
      "Moviepy - Done !\n",
      "Moviepy - video ready C:\\Users\\samee\\Documents\\Courses\\Projects\\Lawn Tennis Highlights with Python\\Output\\output_005.mp4\n",
      "MoviePy - Writing audio in %s\n"
     ]
    },
    {
     "name": "stderr",
     "output_type": "stream",
     "text": [
      "                                                                                                                       \r"
     ]
    },
    {
     "name": "stdout",
     "output_type": "stream",
     "text": [
      "MoviePy - Done.\n"
     ]
    },
    {
     "name": "stderr",
     "output_type": "stream",
     "text": [
      "chunk:   2%|▉                                                                | 2/133 [00:00<00:09, 13.99it/s, now=None]"
     ]
    },
    {
     "name": "stdout",
     "output_type": "stream",
     "text": [
      "Moviepy - Building video C:\\Users\\samee\\Documents\\Courses\\Projects\\Lawn Tennis Highlights with Python\\Output\\output_006.mp4.\n",
      "MoviePy - Writing audio in %s\n"
     ]
    },
    {
     "name": "stderr",
     "output_type": "stream",
     "text": [
      "t:   4%|███                                                                  | 8/180 [00:00<00:02, 79.99it/s, now=None]"
     ]
    },
    {
     "name": "stdout",
     "output_type": "stream",
     "text": [
      "MoviePy - Done.\n",
      "Moviepy - Writing video C:\\Users\\samee\\Documents\\Courses\\Projects\\Lawn Tennis Highlights with Python\\Output\\output_006.mp4\n",
      "\n"
     ]
    },
    {
     "name": "stderr",
     "output_type": "stream",
     "text": [
      "chunk:   2%|▉                                                                | 2/133 [00:00<00:08, 15.04it/s, now=None]"
     ]
    },
    {
     "name": "stdout",
     "output_type": "stream",
     "text": [
      "Moviepy - Done !\n",
      "Moviepy - video ready C:\\Users\\samee\\Documents\\Courses\\Projects\\Lawn Tennis Highlights with Python\\Output\\output_006.mp4\n",
      "MoviePy - Writing audio in %s\n"
     ]
    },
    {
     "name": "stderr",
     "output_type": "stream",
     "text": [
      "                                                                                                                       \r"
     ]
    },
    {
     "name": "stdout",
     "output_type": "stream",
     "text": [
      "MoviePy - Done.\n"
     ]
    },
    {
     "name": "stderr",
     "output_type": "stream",
     "text": [
      "chunk:   1%|▋                                                                | 2/199 [00:00<00:13, 14.70it/s, now=None]"
     ]
    },
    {
     "name": "stdout",
     "output_type": "stream",
     "text": [
      "Moviepy - Building video C:\\Users\\samee\\Documents\\Courses\\Projects\\Lawn Tennis Highlights with Python\\Output\\output_007.mp4.\n",
      "MoviePy - Writing audio in %s\n"
     ]
    },
    {
     "name": "stderr",
     "output_type": "stream",
     "text": [
      "t:   3%|██                                                                   | 8/270 [00:00<00:03, 79.20it/s, now=None]"
     ]
    },
    {
     "name": "stdout",
     "output_type": "stream",
     "text": [
      "MoviePy - Done.\n",
      "Moviepy - Writing video C:\\Users\\samee\\Documents\\Courses\\Projects\\Lawn Tennis Highlights with Python\\Output\\output_007.mp4\n",
      "\n"
     ]
    },
    {
     "name": "stderr",
     "output_type": "stream",
     "text": [
      "chunk:   1%|▋                                                                | 2/199 [00:00<00:13, 14.39it/s, now=None]"
     ]
    },
    {
     "name": "stdout",
     "output_type": "stream",
     "text": [
      "Moviepy - Done !\n",
      "Moviepy - video ready C:\\Users\\samee\\Documents\\Courses\\Projects\\Lawn Tennis Highlights with Python\\Output\\output_007.mp4\n",
      "MoviePy - Writing audio in %s\n"
     ]
    },
    {
     "name": "stderr",
     "output_type": "stream",
     "text": [
      "                                                                                                                       \r"
     ]
    },
    {
     "name": "stdout",
     "output_type": "stream",
     "text": [
      "MoviePy - Done.\n"
     ]
    },
    {
     "name": "stderr",
     "output_type": "stream",
     "text": [
      "chunk:   1%|▍                                                                | 2/265 [00:00<00:17, 14.70it/s, now=None]"
     ]
    },
    {
     "name": "stdout",
     "output_type": "stream",
     "text": [
      "Moviepy - Building video C:\\Users\\samee\\Documents\\Courses\\Projects\\Lawn Tennis Highlights with Python\\Output\\output_008.mp4.\n",
      "MoviePy - Writing audio in %s\n"
     ]
    },
    {
     "name": "stderr",
     "output_type": "stream",
     "text": [
      "t:   2%|█▌                                                                   | 8/360 [00:00<00:04, 78.42it/s, now=None]"
     ]
    },
    {
     "name": "stdout",
     "output_type": "stream",
     "text": [
      "MoviePy - Done.\n",
      "Moviepy - Writing video C:\\Users\\samee\\Documents\\Courses\\Projects\\Lawn Tennis Highlights with Python\\Output\\output_008.mp4\n",
      "\n"
     ]
    },
    {
     "name": "stderr",
     "output_type": "stream",
     "text": [
      "chunk:   1%|▍                                                                | 2/265 [00:00<00:18, 14.39it/s, now=None]"
     ]
    },
    {
     "name": "stdout",
     "output_type": "stream",
     "text": [
      "Moviepy - Done !\n",
      "Moviepy - video ready C:\\Users\\samee\\Documents\\Courses\\Projects\\Lawn Tennis Highlights with Python\\Output\\output_008.mp4\n",
      "MoviePy - Writing audio in %s\n"
     ]
    },
    {
     "name": "stderr",
     "output_type": "stream",
     "text": [
      "                                                                                                                       \r"
     ]
    },
    {
     "name": "stdout",
     "output_type": "stream",
     "text": [
      "MoviePy - Done.\n"
     ]
    },
    {
     "name": "stderr",
     "output_type": "stream",
     "text": [
      "chunk:   1%|▋                                                                | 2/177 [00:00<00:11, 15.04it/s, now=None]"
     ]
    },
    {
     "name": "stdout",
     "output_type": "stream",
     "text": [
      "Moviepy - Building video C:\\Users\\samee\\Documents\\Courses\\Projects\\Lawn Tennis Highlights with Python\\Output\\output_009.mp4.\n",
      "MoviePy - Writing audio in %s\n"
     ]
    },
    {
     "name": "stderr",
     "output_type": "stream",
     "text": [
      "t:   3%|██▎                                                                  | 8/240 [00:00<00:02, 77.66it/s, now=None]"
     ]
    },
    {
     "name": "stdout",
     "output_type": "stream",
     "text": [
      "MoviePy - Done.\n",
      "Moviepy - Writing video C:\\Users\\samee\\Documents\\Courses\\Projects\\Lawn Tennis Highlights with Python\\Output\\output_009.mp4\n",
      "\n"
     ]
    },
    {
     "name": "stderr",
     "output_type": "stream",
     "text": [
      "chunk:   1%|▋                                                                | 2/177 [00:00<00:11, 15.04it/s, now=None]"
     ]
    },
    {
     "name": "stdout",
     "output_type": "stream",
     "text": [
      "Moviepy - Done !\n",
      "Moviepy - video ready C:\\Users\\samee\\Documents\\Courses\\Projects\\Lawn Tennis Highlights with Python\\Output\\output_009.mp4\n",
      "MoviePy - Writing audio in %s\n"
     ]
    },
    {
     "name": "stderr",
     "output_type": "stream",
     "text": [
      "                                                                                                                       \r"
     ]
    },
    {
     "name": "stdout",
     "output_type": "stream",
     "text": [
      "MoviePy - Done.\n"
     ]
    },
    {
     "name": "stderr",
     "output_type": "stream",
     "text": [
      "chunk:   1%|▌                                                                | 2/221 [00:00<00:14, 14.92it/s, now=None]"
     ]
    },
    {
     "name": "stdout",
     "output_type": "stream",
     "text": [
      "Moviepy - Building video C:\\Users\\samee\\Documents\\Courses\\Projects\\Lawn Tennis Highlights with Python\\Output\\output_010.mp4.\n",
      "MoviePy - Writing audio in %s\n"
     ]
    },
    {
     "name": "stderr",
     "output_type": "stream",
     "text": [
      "t:   3%|█▊                                                                   | 8/300 [00:00<00:03, 78.42it/s, now=None]"
     ]
    },
    {
     "name": "stdout",
     "output_type": "stream",
     "text": [
      "MoviePy - Done.\n",
      "Moviepy - Writing video C:\\Users\\samee\\Documents\\Courses\\Projects\\Lawn Tennis Highlights with Python\\Output\\output_010.mp4\n",
      "\n"
     ]
    },
    {
     "name": "stderr",
     "output_type": "stream",
     "text": [
      "chunk:   1%|▌                                                                | 2/221 [00:00<00:14, 14.81it/s, now=None]"
     ]
    },
    {
     "name": "stdout",
     "output_type": "stream",
     "text": [
      "Moviepy - Done !\n",
      "Moviepy - video ready C:\\Users\\samee\\Documents\\Courses\\Projects\\Lawn Tennis Highlights with Python\\Output\\output_010.mp4\n",
      "MoviePy - Writing audio in %s\n"
     ]
    },
    {
     "name": "stderr",
     "output_type": "stream",
     "text": [
      "                                                                                                                       \r"
     ]
    },
    {
     "name": "stdout",
     "output_type": "stream",
     "text": [
      "MoviePy - Done.\n"
     ]
    },
    {
     "name": "stderr",
     "output_type": "stream",
     "text": [
      "chunk:   1%|▋                                                                | 2/199 [00:00<00:13, 14.49it/s, now=None]"
     ]
    },
    {
     "name": "stdout",
     "output_type": "stream",
     "text": [
      "Moviepy - Building video C:\\Users\\samee\\Documents\\Courses\\Projects\\Lawn Tennis Highlights with Python\\Output\\output_011.mp4.\n",
      "MoviePy - Writing audio in %s\n"
     ]
    },
    {
     "name": "stderr",
     "output_type": "stream",
     "text": [
      "t:   3%|██                                                                   | 8/270 [00:00<00:03, 77.66it/s, now=None]"
     ]
    },
    {
     "name": "stdout",
     "output_type": "stream",
     "text": [
      "MoviePy - Done.\n",
      "Moviepy - Writing video C:\\Users\\samee\\Documents\\Courses\\Projects\\Lawn Tennis Highlights with Python\\Output\\output_011.mp4\n",
      "\n"
     ]
    },
    {
     "name": "stderr",
     "output_type": "stream",
     "text": [
      "chunk:   1%|▋                                                                | 2/199 [00:00<00:12, 15.27it/s, now=None]"
     ]
    },
    {
     "name": "stdout",
     "output_type": "stream",
     "text": [
      "Moviepy - Done !\n",
      "Moviepy - video ready C:\\Users\\samee\\Documents\\Courses\\Projects\\Lawn Tennis Highlights with Python\\Output\\output_011.mp4\n",
      "MoviePy - Writing audio in %s\n"
     ]
    },
    {
     "name": "stderr",
     "output_type": "stream",
     "text": [
      "                                                                                                                       \r"
     ]
    },
    {
     "name": "stdout",
     "output_type": "stream",
     "text": [
      "MoviePy - Done.\n"
     ]
    },
    {
     "name": "stderr",
     "output_type": "stream",
     "text": [
      "chunk:   1%|▋                                                                | 2/177 [00:00<00:12, 14.39it/s, now=None]"
     ]
    },
    {
     "name": "stdout",
     "output_type": "stream",
     "text": [
      "Moviepy - Building video C:\\Users\\samee\\Documents\\Courses\\Projects\\Lawn Tennis Highlights with Python\\Output\\output_012.mp4.\n",
      "MoviePy - Writing audio in %s\n"
     ]
    },
    {
     "name": "stderr",
     "output_type": "stream",
     "text": [
      "t:   3%|██▎                                                                  | 8/240 [00:00<00:02, 79.20it/s, now=None]"
     ]
    },
    {
     "name": "stdout",
     "output_type": "stream",
     "text": [
      "MoviePy - Done.\n",
      "Moviepy - Writing video C:\\Users\\samee\\Documents\\Courses\\Projects\\Lawn Tennis Highlights with Python\\Output\\output_012.mp4\n",
      "\n"
     ]
    },
    {
     "name": "stderr",
     "output_type": "stream",
     "text": [
      "chunk:   1%|▋                                                                | 2/177 [00:00<00:12, 14.28it/s, now=None]"
     ]
    },
    {
     "name": "stdout",
     "output_type": "stream",
     "text": [
      "Moviepy - Done !\n",
      "Moviepy - video ready C:\\Users\\samee\\Documents\\Courses\\Projects\\Lawn Tennis Highlights with Python\\Output\\output_012.mp4\n",
      "MoviePy - Writing audio in %s\n"
     ]
    },
    {
     "name": "stderr",
     "output_type": "stream",
     "text": [
      "                                                                                                                       \r"
     ]
    },
    {
     "name": "stdout",
     "output_type": "stream",
     "text": [
      "MoviePy - Done.\n"
     ]
    },
    {
     "name": "stderr",
     "output_type": "stream",
     "text": [
      "chunk:   1%|▊                                                                | 2/155 [00:00<00:10, 14.60it/s, now=None]"
     ]
    },
    {
     "name": "stdout",
     "output_type": "stream",
     "text": [
      "Moviepy - Building video C:\\Users\\samee\\Documents\\Courses\\Projects\\Lawn Tennis Highlights with Python\\Output\\output_013.mp4.\n",
      "MoviePy - Writing audio in %s\n"
     ]
    },
    {
     "name": "stderr",
     "output_type": "stream",
     "text": [
      "t:   3%|██▎                                                                  | 7/210 [00:00<00:02, 69.99it/s, now=None]"
     ]
    },
    {
     "name": "stdout",
     "output_type": "stream",
     "text": [
      "MoviePy - Done.\n",
      "Moviepy - Writing video C:\\Users\\samee\\Documents\\Courses\\Projects\\Lawn Tennis Highlights with Python\\Output\\output_013.mp4\n",
      "\n"
     ]
    },
    {
     "name": "stderr",
     "output_type": "stream",
     "text": [
      "chunk:   1%|▊                                                                | 2/155 [00:00<00:10, 14.92it/s, now=None]"
     ]
    },
    {
     "name": "stdout",
     "output_type": "stream",
     "text": [
      "Moviepy - Done !\n",
      "Moviepy - video ready C:\\Users\\samee\\Documents\\Courses\\Projects\\Lawn Tennis Highlights with Python\\Output\\output_013.mp4\n",
      "MoviePy - Writing audio in %s\n"
     ]
    },
    {
     "name": "stderr",
     "output_type": "stream",
     "text": [
      "                                                                                                                       \r"
     ]
    },
    {
     "name": "stdout",
     "output_type": "stream",
     "text": [
      "MoviePy - Done.\n"
     ]
    },
    {
     "name": "stderr",
     "output_type": "stream",
     "text": [
      "chunk:   2%|▉                                                                | 2/133 [00:00<00:08, 14.92it/s, now=None]"
     ]
    },
    {
     "name": "stdout",
     "output_type": "stream",
     "text": [
      "Moviepy - Building video C:\\Users\\samee\\Documents\\Courses\\Projects\\Lawn Tennis Highlights with Python\\Output\\output_014.mp4.\n",
      "MoviePy - Writing audio in %s\n"
     ]
    },
    {
     "name": "stderr",
     "output_type": "stream",
     "text": [
      "t:   4%|███                                                                  | 8/180 [00:00<00:02, 78.42it/s, now=None]"
     ]
    },
    {
     "name": "stdout",
     "output_type": "stream",
     "text": [
      "MoviePy - Done.\n",
      "Moviepy - Writing video C:\\Users\\samee\\Documents\\Courses\\Projects\\Lawn Tennis Highlights with Python\\Output\\output_014.mp4\n",
      "\n"
     ]
    },
    {
     "name": "stderr",
     "output_type": "stream",
     "text": [
      "chunk:   0%|                                                                         | 0/133 [00:00<?, ?it/s, now=None]"
     ]
    },
    {
     "name": "stdout",
     "output_type": "stream",
     "text": [
      "Moviepy - Done !\n",
      "Moviepy - video ready C:\\Users\\samee\\Documents\\Courses\\Projects\\Lawn Tennis Highlights with Python\\Output\\output_014.mp4\n",
      "MoviePy - Writing audio in %s\n"
     ]
    },
    {
     "name": "stderr",
     "output_type": "stream",
     "text": [
      "                                                                                                                       \r"
     ]
    },
    {
     "name": "stdout",
     "output_type": "stream",
     "text": [
      "MoviePy - Done.\n"
     ]
    },
    {
     "name": "stderr",
     "output_type": "stream",
     "text": [
      "chunk:   2%|▉                                                                | 2/133 [00:00<00:09, 14.08it/s, now=None]"
     ]
    },
    {
     "name": "stdout",
     "output_type": "stream",
     "text": [
      "Moviepy - Building video C:\\Users\\samee\\Documents\\Courses\\Projects\\Lawn Tennis Highlights with Python\\Output\\output_015.mp4.\n",
      "MoviePy - Writing audio in %s\n"
     ]
    },
    {
     "name": "stderr",
     "output_type": "stream",
     "text": [
      "t:   4%|███                                                                  | 8/180 [00:00<00:02, 78.42it/s, now=None]"
     ]
    },
    {
     "name": "stdout",
     "output_type": "stream",
     "text": [
      "MoviePy - Done.\n",
      "Moviepy - Writing video C:\\Users\\samee\\Documents\\Courses\\Projects\\Lawn Tennis Highlights with Python\\Output\\output_015.mp4\n",
      "\n"
     ]
    },
    {
     "name": "stderr",
     "output_type": "stream",
     "text": [
      "chunk:   2%|▉                                                                | 2/133 [00:00<00:08, 15.15it/s, now=None]"
     ]
    },
    {
     "name": "stdout",
     "output_type": "stream",
     "text": [
      "Moviepy - Done !\n",
      "Moviepy - video ready C:\\Users\\samee\\Documents\\Courses\\Projects\\Lawn Tennis Highlights with Python\\Output\\output_015.mp4\n",
      "MoviePy - Writing audio in %s\n"
     ]
    },
    {
     "name": "stderr",
     "output_type": "stream",
     "text": [
      "                                                                                                                       \r"
     ]
    },
    {
     "name": "stdout",
     "output_type": "stream",
     "text": [
      "MoviePy - Done.\n"
     ]
    },
    {
     "name": "stderr",
     "output_type": "stream",
     "text": [
      "chunk:   1%|▊                                                                | 2/155 [00:00<00:10, 14.92it/s, now=None]"
     ]
    },
    {
     "name": "stdout",
     "output_type": "stream",
     "text": [
      "Moviepy - Building video C:\\Users\\samee\\Documents\\Courses\\Projects\\Lawn Tennis Highlights with Python\\Output\\output_016.mp4.\n",
      "MoviePy - Writing audio in %s\n"
     ]
    },
    {
     "name": "stderr",
     "output_type": "stream",
     "text": [
      "t:   4%|██▉                                                                  | 9/210 [00:00<00:02, 85.71it/s, now=None]"
     ]
    },
    {
     "name": "stdout",
     "output_type": "stream",
     "text": [
      "MoviePy - Done.\n",
      "Moviepy - Writing video C:\\Users\\samee\\Documents\\Courses\\Projects\\Lawn Tennis Highlights with Python\\Output\\output_016.mp4\n",
      "\n"
     ]
    },
    {
     "name": "stderr",
     "output_type": "stream",
     "text": [
      "chunk:   1%|▊                                                                | 2/155 [00:00<00:10, 15.27it/s, now=None]"
     ]
    },
    {
     "name": "stdout",
     "output_type": "stream",
     "text": [
      "Moviepy - Done !\n",
      "Moviepy - video ready C:\\Users\\samee\\Documents\\Courses\\Projects\\Lawn Tennis Highlights with Python\\Output\\output_016.mp4\n",
      "MoviePy - Writing audio in %s\n"
     ]
    },
    {
     "name": "stderr",
     "output_type": "stream",
     "text": [
      "                                                                                                                       \r"
     ]
    },
    {
     "name": "stdout",
     "output_type": "stream",
     "text": [
      "MoviePy - Done.\n"
     ]
    },
    {
     "name": "stderr",
     "output_type": "stream",
     "text": [
      "chunk:   1%|▍                                                                | 2/331 [00:00<00:23, 14.18it/s, now=None]"
     ]
    },
    {
     "name": "stdout",
     "output_type": "stream",
     "text": [
      "Moviepy - Building video C:\\Users\\samee\\Documents\\Courses\\Projects\\Lawn Tennis Highlights with Python\\Output\\output_017.mp4.\n",
      "MoviePy - Writing audio in %s\n"
     ]
    },
    {
     "name": "stderr",
     "output_type": "stream",
     "text": [
      "t:   2%|█▏                                                                   | 8/450 [00:00<00:05, 79.99it/s, now=None]"
     ]
    },
    {
     "name": "stdout",
     "output_type": "stream",
     "text": [
      "MoviePy - Done.\n",
      "Moviepy - Writing video C:\\Users\\samee\\Documents\\Courses\\Projects\\Lawn Tennis Highlights with Python\\Output\\output_017.mp4\n",
      "\n"
     ]
    },
    {
     "name": "stderr",
     "output_type": "stream",
     "text": [
      "chunk:   1%|▍                                                                | 2/331 [00:00<00:22, 14.92it/s, now=None]"
     ]
    },
    {
     "name": "stdout",
     "output_type": "stream",
     "text": [
      "Moviepy - Done !\n",
      "Moviepy - video ready C:\\Users\\samee\\Documents\\Courses\\Projects\\Lawn Tennis Highlights with Python\\Output\\output_017.mp4\n",
      "MoviePy - Writing audio in %s\n"
     ]
    },
    {
     "name": "stderr",
     "output_type": "stream",
     "text": [
      "                                                                                                                       \r"
     ]
    },
    {
     "name": "stdout",
     "output_type": "stream",
     "text": [
      "MoviePy - Done.\n"
     ]
    },
    {
     "name": "stderr",
     "output_type": "stream",
     "text": [
      "chunk:   2%|█▏                                                               | 2/111 [00:00<00:07, 14.60it/s, now=None]"
     ]
    },
    {
     "name": "stdout",
     "output_type": "stream",
     "text": [
      "Moviepy - Building video C:\\Users\\samee\\Documents\\Courses\\Projects\\Lawn Tennis Highlights with Python\\Output\\output_018.mp4.\n",
      "MoviePy - Writing audio in %s\n"
     ]
    },
    {
     "name": "stderr",
     "output_type": "stream",
     "text": [
      "t:   5%|███▋                                                                 | 8/150 [00:00<00:01, 79.99it/s, now=None]"
     ]
    },
    {
     "name": "stdout",
     "output_type": "stream",
     "text": [
      "MoviePy - Done.\n",
      "Moviepy - Writing video C:\\Users\\samee\\Documents\\Courses\\Projects\\Lawn Tennis Highlights with Python\\Output\\output_018.mp4\n",
      "\n"
     ]
    },
    {
     "name": "stderr",
     "output_type": "stream",
     "text": [
      "chunk:   0%|                                                                         | 0/111 [00:00<?, ?it/s, now=None]"
     ]
    },
    {
     "name": "stdout",
     "output_type": "stream",
     "text": [
      "Moviepy - Done !\n",
      "Moviepy - video ready C:\\Users\\samee\\Documents\\Courses\\Projects\\Lawn Tennis Highlights with Python\\Output\\output_018.mp4\n",
      "MoviePy - Writing audio in %s\n"
     ]
    },
    {
     "name": "stderr",
     "output_type": "stream",
     "text": [
      "                                                                                                                       \r"
     ]
    },
    {
     "name": "stdout",
     "output_type": "stream",
     "text": [
      "MoviePy - Done.\n"
     ]
    },
    {
     "name": "stderr",
     "output_type": "stream",
     "text": [
      "chunk:   1%|▍                                                                | 2/287 [00:00<00:19, 14.92it/s, now=None]"
     ]
    },
    {
     "name": "stdout",
     "output_type": "stream",
     "text": [
      "Moviepy - Building video C:\\Users\\samee\\Documents\\Courses\\Projects\\Lawn Tennis Highlights with Python\\Output\\output_019.mp4.\n",
      "MoviePy - Writing audio in %s\n"
     ]
    },
    {
     "name": "stderr",
     "output_type": "stream",
     "text": [
      "t:   2%|█▍                                                                   | 8/390 [00:00<00:04, 76.92it/s, now=None]"
     ]
    },
    {
     "name": "stdout",
     "output_type": "stream",
     "text": [
      "MoviePy - Done.\n",
      "Moviepy - Writing video C:\\Users\\samee\\Documents\\Courses\\Projects\\Lawn Tennis Highlights with Python\\Output\\output_019.mp4\n",
      "\n"
     ]
    },
    {
     "name": "stderr",
     "output_type": "stream",
     "text": [
      "chunk:   1%|▍                                                                | 2/287 [00:00<00:19, 14.49it/s, now=None]"
     ]
    },
    {
     "name": "stdout",
     "output_type": "stream",
     "text": [
      "Moviepy - Done !\n",
      "Moviepy - video ready C:\\Users\\samee\\Documents\\Courses\\Projects\\Lawn Tennis Highlights with Python\\Output\\output_019.mp4\n",
      "MoviePy - Writing audio in %s\n"
     ]
    },
    {
     "name": "stderr",
     "output_type": "stream",
     "text": [
      "                                                                                                                       \r"
     ]
    },
    {
     "name": "stdout",
     "output_type": "stream",
     "text": [
      "MoviePy - Done.\n",
      "[('output_012.mp4', -38.389891126940825), ('output_019.mp4', -37.798238374476085), ('output_015.mp4', -37.407434150482494), ('output_000.mp4', -36.89905576133344), ('output_009.mp4', -36.834357275971946), ('output_002.mp4', -36.09360167249582), ('output_007.mp4', -35.97849644626495), ('output_008.mp4', -35.40590801911571), ('output_001.mp4', -34.068272027595945), ('output_017.mp4', -34.04739529694406), ('output_011.mp4', -34.00399229071446), ('output_014.mp4', -33.606531671419816), ('output_003.mp4', -32.79698677324668), ('output_018.mp4', -32.751816852492645), ('output_006.mp4', -32.74044135682667)]\n",
      "['output_000.mp4', 'output_001.mp4', 'output_002.mp4', 'output_003.mp4', 'output_006.mp4', 'output_007.mp4', 'output_008.mp4', 'output_009.mp4', 'output_011.mp4', 'output_012.mp4', 'output_014.mp4', 'output_015.mp4', 'output_017.mp4', 'output_018.mp4', 'output_019.mp4']\n"
     ]
    },
    {
     "name": "stderr",
     "output_type": "stream",
     "text": [
      "t:   0%|                                                                    | 6/3930 [00:00<01:06, 59.40it/s, now=None]"
     ]
    },
    {
     "name": "stdout",
     "output_type": "stream",
     "text": [
      "Moviepy - Building video C:\\Users\\samee\\Documents\\Courses\\Projects\\Lawn Tennis Highlights with Python\\Output\\final_highlights.mp4.\n",
      "Moviepy - Writing video C:\\Users\\samee\\Documents\\Courses\\Projects\\Lawn Tennis Highlights with Python\\Output\\final_highlights.mp4\n",
      "\n"
     ]
    },
    {
     "name": "stderr",
     "output_type": "stream",
     "text": [
      "                                                                                                                       \r"
     ]
    },
    {
     "name": "stdout",
     "output_type": "stream",
     "text": [
      "Moviepy - Done !\n",
      "Moviepy - video ready C:\\Users\\samee\\Documents\\Courses\\Projects\\Lawn Tennis Highlights with Python\\Output\\final_highlights.mp4\n",
      "Your highlights video is located in C:\\Users\\samee\\Documents\\Courses\\Projects\\Lawn Tennis Highlights with Python with name Output \n"
     ]
    }
   ],
   "source": [
    "if __name__==\"__main__\":\n",
    "    loc=VideoDescription(input(\"Enter your Video File Location: \"))\n",
    "    \n",
    "    file=ReadCSV(input(\"Enter CLIP TIME csv location: \"))\n",
    "    \n",
    "    oloc = VideoOutput(input(\"Enter output Folder path?\"))\n",
    "    \n",
    "    loudness_dict, path = break_video_files(loc, file,oloc)\n",
    "    \n",
    "    final_clip = merge_files(loudness_dict)\n",
    "    \n",
    "    clean_files(oloc)"
   ]
  },
  {
   "cell_type": "code",
   "execution_count": null,
   "metadata": {},
   "outputs": [],
   "source": [
    "loc=VideoDescription(input(\"Enter your Video File Location: \"))"
   ]
  },
  {
   "cell_type": "code",
   "execution_count": null,
   "metadata": {},
   "outputs": [],
   "source": [
    "file=ReadCSV(input(\"Enter CLIP TIME csv location: \"))\n"
   ]
  },
  {
   "cell_type": "code",
   "execution_count": null,
   "metadata": {},
   "outputs": [],
   "source": [
    "oloc = VideoOutput(input(\"Enter output Folder path?\"))"
   ]
  },
  {
   "cell_type": "code",
   "execution_count": 1,
   "metadata": {},
   "outputs": [
    {
     "ename": "NameError",
     "evalue": "name 'merge_files' is not defined",
     "output_type": "error",
     "traceback": [
      "\u001b[1;31m---------------------------------------------------------------------------\u001b[0m",
      "\u001b[1;31mNameError\u001b[0m                                 Traceback (most recent call last)",
      "\u001b[1;32m<ipython-input-1-6a862a91d7d9>\u001b[0m in \u001b[0;36m<module>\u001b[1;34m\u001b[0m\n\u001b[1;32m----> 1\u001b[1;33m \u001b[0mfinal_clip\u001b[0m \u001b[1;33m=\u001b[0m \u001b[0mmerge_files\u001b[0m\u001b[1;33m(\u001b[0m\u001b[0mloudness_dict\u001b[0m\u001b[1;33m)\u001b[0m\u001b[1;33m\u001b[0m\u001b[1;33m\u001b[0m\u001b[0m\n\u001b[0m",
      "\u001b[1;31mNameError\u001b[0m: name 'merge_files' is not defined"
     ]
    }
   ],
   "source": [
    "final_clip = merge_files(loudness_dict)"
   ]
  },
  {
   "cell_type": "code",
   "execution_count": null,
   "metadata": {},
   "outputs": [],
   "source": []
  }
 ],
 "metadata": {
  "kernelspec": {
   "display_name": "Python 3",
   "language": "python",
   "name": "python3"
  },
  "language_info": {
   "codemirror_mode": {
    "name": "ipython",
    "version": 3
   },
   "file_extension": ".py",
   "mimetype": "text/x-python",
   "name": "python",
   "nbconvert_exporter": "python",
   "pygments_lexer": "ipython3",
   "version": "3.8.3"
  }
 },
 "nbformat": 4,
 "nbformat_minor": 2
}
